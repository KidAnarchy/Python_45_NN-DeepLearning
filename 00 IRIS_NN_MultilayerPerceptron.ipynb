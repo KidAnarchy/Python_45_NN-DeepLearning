{
 "cells": [
  {
   "cell_type": "code",
   "execution_count": 1,
   "metadata": {},
   "outputs": [
    {
     "data": {
      "text/plain": [
       "'\\nA multilayer perceptron (MLP) is a class of feedforward artificial neural network (ANN). \\nThe term MLP is used ambiguously, sometimes loosely to mean any feedforward ANN, \\nsometimes strictly to refer to networks composed of multiple layers of perceptrons (with threshold activation); \\nsee § Terminology. Multilayer perceptrons are sometimes colloquially referred to as \"vanilla\" neural networks, \\nespecially when they have a single hidden layer.\\n'"
      ]
     },
     "execution_count": 1,
     "metadata": {},
     "output_type": "execute_result"
    }
   ],
   "source": [
    "\"\"\"\n",
    "A multilayer perceptron (MLP) is a class of feedforward artificial neural network (ANN). \n",
    "\n",
    "The term MLP is used ambiguously, sometimes loosely to mean any feedforward ANN, \n",
    "sometimes strictly to refer to networks composed of multiple layers of perceptrons (with threshold activation); \n",
    "see § Terminology. \n",
    "\n",
    "Multilayer perceptrons are sometimes colloquially referred to as \"vanilla\" neural networks, \n",
    "especially when they have a single hidden layer.\n",
    "\"\"\""
   ]
  },
  {
   "cell_type": "code",
   "execution_count": 2,
   "metadata": {},
   "outputs": [],
   "source": [
    "### Import Library"
   ]
  },
  {
   "cell_type": "code",
   "execution_count": 3,
   "metadata": {
    "colab": {
     "base_uri": "https://localhost:8080/"
    },
    "id": "4PhVqu3lirfx",
    "outputId": "d8843c74-3ccc-4ab5-f2d6-5b92e3938dee"
   },
   "outputs": [],
   "source": [
    "from sklearn.datasets import load_iris\n",
    "import pandas as pd\n",
    "import numpy as np\n",
    "import matplotlib.pyplot as plt"
   ]
  },
  {
   "cell_type": "code",
   "execution_count": 4,
   "metadata": {
    "colab": {
     "base_uri": "https://localhost:8080/"
    },
    "id": "4PhVqu3lirfx",
    "outputId": "d8843c74-3ccc-4ab5-f2d6-5b92e3938dee"
   },
   "outputs": [],
   "source": [
    "# 1) read data\n",
    "iris_dataset = load_iris()"
   ]
  },
  {
   "cell_type": "code",
   "execution_count": 5,
   "metadata": {
    "colab": {
     "base_uri": "https://localhost:8080/"
    },
    "id": "4PhVqu3lirfx",
    "outputId": "d8843c74-3ccc-4ab5-f2d6-5b92e3938dee"
   },
   "outputs": [],
   "source": [
    "XX = pd.DataFrame(iris_dataset.data, columns=iris_dataset.feature_names)\n",
    "yy = pd.DataFrame(iris_dataset.target)"
   ]
  },
  {
   "cell_type": "code",
   "execution_count": 6,
   "metadata": {
    "colab": {
     "base_uri": "https://localhost:8080/"
    },
    "id": "4PhVqu3lirfx",
    "outputId": "d8843c74-3ccc-4ab5-f2d6-5b92e3938dee"
   },
   "outputs": [],
   "source": [
    "# 2) Split data -> train / test\n",
    "from sklearn.model_selection import train_test_split\n",
    "X_train, X_test ,y_train,y_test = train_test_split(XX, yy, test_size=0.3,random_state=0)"
   ]
  },
  {
   "cell_type": "code",
   "execution_count": 7,
   "metadata": {
    "colab": {
     "base_uri": "https://localhost:8080/"
    },
    "id": "4PhVqu3lirfx",
    "outputId": "d8843c74-3ccc-4ab5-f2d6-5b92e3938dee"
   },
   "outputs": [],
   "source": [
    "# 3) Normalise data\n",
    "from sklearn.preprocessing import StandardScaler \n",
    "sc = StandardScaler()\n",
    "sc.fit(X_train)\n",
    "\n",
    "X_train_std = sc.transform(X_train)\n",
    "X_test_std = sc.transform(X_test)"
   ]
  },
  {
   "cell_type": "code",
   "execution_count": 8,
   "metadata": {
    "colab": {
     "base_uri": "https://localhost:8080/"
    },
    "id": "4PhVqu3lirfx",
    "outputId": "d8843c74-3ccc-4ab5-f2d6-5b92e3938dee"
   },
   "outputs": [
    {
     "name": "stdout",
     "output_type": "stream",
     "text": [
      "accuracy MLP train :1.00\n",
      "accuracy MLP test  :0.98\n"
     ]
    },
    {
     "name": "stderr",
     "output_type": "stream",
     "text": [
      "C:\\Users\\HP\\anaconda3\\lib\\site-packages\\sklearn\\utils\\validation.py:72: DataConversionWarning: A column-vector y was passed when a 1d array was expected. Please change the shape of y to (n_samples, ), for example using ravel().\n",
      "  return f(**kwargs)\n"
     ]
    }
   ],
   "source": [
    "# 4) neural_network \n",
    "from sklearn.neural_network import MLPClassifier\n",
    "\n",
    "# Building Model\n",
    "# Limited-memory Broyden–Fletcher–Goldfarb–Shanno(lbfgs)\n",
    "mlp = MLPClassifier(solver='lbfgs', hidden_layer_sizes=(5,2),random_state=0)\n",
    "\n",
    "# Fit Model\n",
    "mlp.fit(X_train_std,y_train)\n",
    "\n",
    "# Evaluate Model\n",
    "print(\"accuracy MLP train :{:.2f}\".format(mlp.score(X_train_std, y_train)))\n",
    "print(\"accuracy MLP test  :{:.2f}\".format(mlp.score(X_test_std, y_test)))"
   ]
  },
  {
   "cell_type": "code",
   "execution_count": 9,
   "metadata": {
    "colab": {
     "base_uri": "https://localhost:8080/"
    },
    "id": "zsomSkOCuBuA",
    "outputId": "63210da1-84fc-428e-b9c4-c281adcbb428"
   },
   "outputs": [
    {
     "name": "stdout",
     "output_type": "stream",
     "text": [
      "accuracy MLP (train) :0.79\n",
      "accuracy MLP (test)  :0.84\n"
     ]
    },
    {
     "name": "stderr",
     "output_type": "stream",
     "text": [
      "C:\\Users\\HP\\anaconda3\\lib\\site-packages\\sklearn\\neural_network\\_multilayer_perceptron.py:582: ConvergenceWarning: Stochastic Optimizer: Maximum iterations (200) reached and the optimization hasn't converged yet.\n",
      "  warnings.warn(\n"
     ]
    }
   ],
   "source": [
    "# Neural Network\n",
    "from sklearn.neural_network import MLPClassifier\n",
    "\n",
    "# Building Model\n",
    "mlp = MLPClassifier(hidden_layer_sizes=(4,),random_state=0)\n",
    "y_train = y_train\n",
    "\n",
    "# Fit Model\n",
    "mlp.fit(X_train_std,y_train.values.ravel())\n",
    "\n",
    "# Evaluate Model\n",
    "print(\"accuracy MLP (train) :{:.2f}\".format(mlp.score(X_train_std, y_train)))\n",
    "print(\"accuracy MLP (test)  :{:.2f}\".format(mlp.score(X_test_std, y_test)))"
   ]
  }
 ],
 "metadata": {
  "colab": {
   "collapsed_sections": [],
   "name": "classification.ipynb",
   "provenance": []
  },
  "kernelspec": {
   "display_name": "Python 3",
   "language": "python",
   "name": "python3"
  },
  "language_info": {
   "codemirror_mode": {
    "name": "ipython",
    "version": 3
   },
   "file_extension": ".py",
   "mimetype": "text/x-python",
   "name": "python",
   "nbconvert_exporter": "python",
   "pygments_lexer": "ipython3",
   "version": "3.8.5"
  }
 },
 "nbformat": 4,
 "nbformat_minor": 1
}
